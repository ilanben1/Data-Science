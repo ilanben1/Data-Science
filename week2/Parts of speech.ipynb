{
 "cells": [
  {
   "cell_type": "code",
   "execution_count": 122,
   "metadata": {},
   "outputs": [],
   "source": [
    "import nltk\n",
    "import os \n",
    "\n",
    "from nltk.tag import UnigramTagger\n",
    "from nltk.corpus import treebank\n",
    "from nltk.tokenize import TreebankWordTokenizer\n",
    "import tarfile\n",
    "from nltk.corpus import sentiwordnet as swn\n",
    "\n",
    "\n",
    "#nltk.download()"
   ]
  },
  {
   "cell_type": "code",
   "execution_count": 5,
   "metadata": {},
   "outputs": [],
   "source": [
    "train_sents = treebank.tagged_sents()[:3000]\n",
    "tagger = UnigramTagger(train_sents)"
   ]
  },
  {
   "cell_type": "code",
   "execution_count": 18,
   "metadata": {
    "collapsed": true
   },
   "outputs": [
    {
     "data": {
      "text/plain": [
       "[('A', 'DT'),\n",
       " ('full', 'JJ'),\n",
       " (',', ','),\n",
       " ('four-color', 'JJ'),\n",
       " ('page', 'NN'),\n",
       " ('in', 'IN'),\n",
       " ('Newsweek', 'NNP'),\n",
       " ('will', 'MD'),\n",
       " ('cost', 'NN'),\n",
       " ('$', '$'),\n",
       " ('100,980', 'CD'),\n",
       " ('*U*', '-NONE-'),\n",
       " ('.', '.')]"
      ]
     },
     "execution_count": 18,
     "metadata": {},
     "output_type": "execute_result"
    }
   ],
   "source": [
    "tagger.tag(treebank.sents()[101])"
   ]
  },
  {
   "cell_type": "code",
   "execution_count": 19,
   "metadata": {},
   "outputs": [],
   "source": [
    "tf = tarfile.open(\"review_polarity.tar\")\n",
    "#tf.extractall()"
   ]
  },
  {
   "cell_type": "code",
   "execution_count": 95,
   "metadata": {},
   "outputs": [],
   "source": [
    "tf = tarfile.open(\"wn3.1.dict.tar\")\n",
    "tf.extractall()"
   ]
  },
  {
   "cell_type": "code",
   "execution_count": 87,
   "metadata": {},
   "outputs": [],
   "source": [
    "def init_ad_review(pos_neg):\n",
    "    list_rev = []\n",
    "    for x in os.listdir('txt_sentoken/'+pos_neg+'/'):\n",
    "        with open('txt_sentoken/'+pos_neg+'/'+x,'r') as f:\n",
    "            file = f.read()\n",
    "            list_rev.append(file)\n",
    "    #split sentence by word\n",
    "    tokenizer = TreebankWordTokenizer()\n",
    "\n",
    "    list_rev_w_tag = []\n",
    "    for review in list_rev:\n",
    "        list_rev_w_tag.append(tagger.tag(tokenizer.tokenize(review)))\n",
    "\n",
    "\n",
    "    list_rev_w_tag_RB = []\n",
    "    sentence = []\n",
    "    for review in list_rev_w_tag:\n",
    "        for word in review:\n",
    "            if not word[1] is None:\n",
    "                if 'RB' in word[1]:\n",
    "                    sentence.append(word)\n",
    "        list_rev_w_tag_RB.append(sentence)\n",
    "        sentence = [] \n",
    "    return list_rev_w_tag_RB"
   ]
  },
  {
   "cell_type": "code",
   "execution_count": 88,
   "metadata": {},
   "outputs": [],
   "source": [
    "list_pos_w_tag_RB = init_ad_review('pos')"
   ]
  },
  {
   "cell_type": "code",
   "execution_count": 89,
   "metadata": {},
   "outputs": [],
   "source": [
    "list_neg_w_tag_RB = init_ad_review('neg')"
   ]
  },
  {
   "cell_type": "code",
   "execution_count": 141,
   "metadata": {},
   "outputs": [],
   "source": [
    "def identify_pos_neg(review):\n",
    "    pos = 0\n",
    "    neg = 0\n",
    "    for word in review:\n",
    "        try:\n",
    "            pos +=swn.senti_synset('{word}.r.1'.format(word = word[0])).pos_score()\n",
    "            neg +=swn.senti_synset('{word}.r.1'.format(word = word[0])).neg_score()\n",
    "        except:\n",
    "            pass\n",
    "    return pos, neg"
   ]
  },
  {
   "cell_type": "code",
   "execution_count": 148,
   "metadata": {},
   "outputs": [],
   "source": [
    "count = 0\n",
    "for review in list_pos_w_tag_RB:\n",
    "    pos , neg  = identify_pos_neg(review)\n",
    "    if pos > neg:\n",
    "        count +=1"
   ]
  }
 ],
 "metadata": {
  "kernelspec": {
   "display_name": "Python 3",
   "language": "python",
   "name": "python3"
  },
  "language_info": {
   "codemirror_mode": {
    "name": "ipython",
    "version": 3
   },
   "file_extension": ".py",
   "mimetype": "text/x-python",
   "name": "python",
   "nbconvert_exporter": "python",
   "pygments_lexer": "ipython3",
   "version": "3.6.5"
  }
 },
 "nbformat": 4,
 "nbformat_minor": 2
}
